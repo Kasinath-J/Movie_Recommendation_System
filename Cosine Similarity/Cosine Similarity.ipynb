{
 "cells": [
  {
   "cell_type": "markdown",
   "metadata": {},
   "source": [
    "## Importing Library"
   ]
  },
  {
   "cell_type": "code",
   "execution_count": 38,
   "metadata": {},
   "outputs": [],
   "source": [
    "import pandas as pd\n",
    "import numpy as np\n",
    "from sklearn.feature_extraction.text import CountVectorizer\n",
    "from sklearn.metrics.pairwise import cosine_similarity"
   ]
  },
  {
   "cell_type": "code",
   "execution_count": 39,
   "metadata": {},
   "outputs": [],
   "source": [
    "import warnings\n",
    "def warn(*args, **kwargs):\n",
    "    pass\n",
    "warnings.warn = warn"
   ]
  },
  {
   "cell_type": "markdown",
   "metadata": {},
   "source": [
    "## Importing Dataset"
   ]
  },
  {
   "cell_type": "code",
   "execution_count": 40,
   "metadata": {},
   "outputs": [],
   "source": [
    "df = pd.read_csv(\"movies_metadata.csv\",low_memory = False)"
   ]
  },
  {
   "cell_type": "markdown",
   "metadata": {},
   "source": [
    "## Preprocessing"
   ]
  },
  {
   "cell_type": "code",
   "execution_count": 41,
   "metadata": {},
   "outputs": [
    {
     "data": {
      "text/plain": [
       "(16676, 24)"
      ]
     },
     "execution_count": 41,
     "metadata": {},
     "output_type": "execute_result"
    }
   ],
   "source": [
    "df = df.loc[df[\"original_language\"]==\"en\"]\n",
    "df = df.loc[df[\"genres\"]!=\"[]\"]\n",
    "df = df.loc[df['vote_count'] >= 10]\n",
    "df1 = df[[\"genres\",\"id\",\"imdb_id\",\"original_language\",\"production_companies\",\"title\"]]\n",
    "df.shape"
   ]
  },
  {
   "cell_type": "markdown",
   "metadata": {},
   "source": [
    "### Extracting Genre"
   ]
  },
  {
   "cell_type": "code",
   "execution_count": 42,
   "metadata": {},
   "outputs": [],
   "source": [
    "index=0\n",
    "for i in df1[\"genres\"]:\n",
    "    dist = eval(i)\n",
    "    genres=[]\n",
    "    for j in dist:\n",
    "        genres.append(j['name'])\n",
    "    x = \" \".join(genres)\n",
    "    df1.iloc[index]['genres'] = x\n",
    "    index+=1\n",
    "df1.reset_index(drop = True, inplace=True)"
   ]
  },
  {
   "cell_type": "markdown",
   "metadata": {},
   "source": [
    "### Extracting Production company"
   ]
  },
  {
   "cell_type": "code",
   "execution_count": 43,
   "metadata": {},
   "outputs": [],
   "source": [
    "df1[\"production_companies\"] = df1[\"production_companies\"].astype(str) \n",
    "index=0\n",
    "for i in df1[\"production_companies\"]:\n",
    "    dist = eval(i)\n",
    "    prod=[]\n",
    "    for j in dist:\n",
    "        prod.append(j['name'])\n",
    "    x = \" \".join(prod)\n",
    "    df1.iloc[index]['production_companies'] = x\n",
    "    index+=1"
   ]
  },
  {
   "cell_type": "markdown",
   "metadata": {},
   "source": [
    "### Combining Different Feature into a string"
   ]
  },
  {
   "cell_type": "code",
   "execution_count": 44,
   "metadata": {},
   "outputs": [],
   "source": [
    "features = [\"genres\",\"production_companies\",\"title\"]\n",
    "def combine_features(row):\n",
    "    return row['title'] + \" \"  + row['genres'] + \" \" + row['production_companies'] \n",
    "\n",
    "df1[\"combined_features\"] = df1.apply(combine_features,axis = 1)"
   ]
  },
  {
   "cell_type": "code",
   "execution_count": 45,
   "metadata": {},
   "outputs": [
    {
     "data": {
      "text/html": [
       "<div>\n",
       "<style scoped>\n",
       "    .dataframe tbody tr th:only-of-type {\n",
       "        vertical-align: middle;\n",
       "    }\n",
       "\n",
       "    .dataframe tbody tr th {\n",
       "        vertical-align: top;\n",
       "    }\n",
       "\n",
       "    .dataframe thead th {\n",
       "        text-align: right;\n",
       "    }\n",
       "</style>\n",
       "<table border=\"1\" class=\"dataframe\">\n",
       "  <thead>\n",
       "    <tr style=\"text-align: right;\">\n",
       "      <th></th>\n",
       "      <th>genres</th>\n",
       "      <th>id</th>\n",
       "      <th>imdb_id</th>\n",
       "      <th>original_language</th>\n",
       "      <th>production_companies</th>\n",
       "      <th>title</th>\n",
       "      <th>combined_features</th>\n",
       "    </tr>\n",
       "  </thead>\n",
       "  <tbody>\n",
       "    <tr>\n",
       "      <th>0</th>\n",
       "      <td>Animation Comedy Family</td>\n",
       "      <td>862</td>\n",
       "      <td>tt0114709</td>\n",
       "      <td>en</td>\n",
       "      <td>Pixar Animation Studios</td>\n",
       "      <td>Toy Story</td>\n",
       "      <td>Toy Story Animation Comedy Family Pixar Animat...</td>\n",
       "    </tr>\n",
       "    <tr>\n",
       "      <th>1</th>\n",
       "      <td>Adventure Fantasy Family</td>\n",
       "      <td>8844</td>\n",
       "      <td>tt0113497</td>\n",
       "      <td>en</td>\n",
       "      <td>TriStar Pictures Teitler Film Interscope Commu...</td>\n",
       "      <td>Jumanji</td>\n",
       "      <td>Jumanji Adventure Fantasy Family TriStar Pictu...</td>\n",
       "    </tr>\n",
       "    <tr>\n",
       "      <th>2</th>\n",
       "      <td>Romance Comedy</td>\n",
       "      <td>15602</td>\n",
       "      <td>tt0113228</td>\n",
       "      <td>en</td>\n",
       "      <td>Warner Bros. Lancaster Gate</td>\n",
       "      <td>Grumpier Old Men</td>\n",
       "      <td>Grumpier Old Men Romance Comedy Warner Bros. L...</td>\n",
       "    </tr>\n",
       "    <tr>\n",
       "      <th>3</th>\n",
       "      <td>Comedy Drama Romance</td>\n",
       "      <td>31357</td>\n",
       "      <td>tt0114885</td>\n",
       "      <td>en</td>\n",
       "      <td>Twentieth Century Fox Film Corporation</td>\n",
       "      <td>Waiting to Exhale</td>\n",
       "      <td>Waiting to Exhale Comedy Drama Romance Twentie...</td>\n",
       "    </tr>\n",
       "    <tr>\n",
       "      <th>4</th>\n",
       "      <td>Comedy</td>\n",
       "      <td>11862</td>\n",
       "      <td>tt0113041</td>\n",
       "      <td>en</td>\n",
       "      <td>Sandollar Productions Touchstone Pictures</td>\n",
       "      <td>Father of the Bride Part II</td>\n",
       "      <td>Father of the Bride Part II Comedy Sandollar P...</td>\n",
       "    </tr>\n",
       "    <tr>\n",
       "      <th>...</th>\n",
       "      <td>...</td>\n",
       "      <td>...</td>\n",
       "      <td>...</td>\n",
       "      <td>...</td>\n",
       "      <td>...</td>\n",
       "      <td>...</td>\n",
       "      <td>...</td>\n",
       "    </tr>\n",
       "    <tr>\n",
       "      <th>16671</th>\n",
       "      <td>Family Animation Romance Comedy</td>\n",
       "      <td>455661</td>\n",
       "      <td>tt6969946</td>\n",
       "      <td>en</td>\n",
       "      <td>Ringling College of Art and Design</td>\n",
       "      <td>In a Heartbeat</td>\n",
       "      <td>In a Heartbeat Family Animation Romance Comedy...</td>\n",
       "    </tr>\n",
       "    <tr>\n",
       "      <th>16672</th>\n",
       "      <td>Drama Family TV Movie</td>\n",
       "      <td>39562</td>\n",
       "      <td>tt0889600</td>\n",
       "      <td>en</td>\n",
       "      <td></td>\n",
       "      <td>To Be Fat Like Me</td>\n",
       "      <td>To Be Fat Like Me Drama Family TV Movie</td>\n",
       "    </tr>\n",
       "    <tr>\n",
       "      <th>16673</th>\n",
       "      <td>Comedy</td>\n",
       "      <td>14008</td>\n",
       "      <td>tt0294425</td>\n",
       "      <td>en</td>\n",
       "      <td>Walt Disney Television Disney Channel Leider/S...</td>\n",
       "      <td>Cadet Kelly</td>\n",
       "      <td>Cadet Kelly Comedy Walt Disney Television Disn...</td>\n",
       "    </tr>\n",
       "    <tr>\n",
       "      <th>16674</th>\n",
       "      <td>Fantasy Comedy</td>\n",
       "      <td>49271</td>\n",
       "      <td>tt0127948</td>\n",
       "      <td>en</td>\n",
       "      <td>Star Film Company</td>\n",
       "      <td>The Devilish Tenant</td>\n",
       "      <td>The Devilish Tenant Fantasy Comedy Star Film C...</td>\n",
       "    </tr>\n",
       "    <tr>\n",
       "      <th>16675</th>\n",
       "      <td>Drama Action Romance</td>\n",
       "      <td>30840</td>\n",
       "      <td>tt0102797</td>\n",
       "      <td>en</td>\n",
       "      <td>Westdeutscher Rundfunk (WDR) Working Title Fil...</td>\n",
       "      <td>Robin Hood</td>\n",
       "      <td>Robin Hood Drama Action Romance Westdeutscher ...</td>\n",
       "    </tr>\n",
       "  </tbody>\n",
       "</table>\n",
       "<p>16676 rows × 7 columns</p>\n",
       "</div>"
      ],
      "text/plain": [
       "                                genres      id    imdb_id original_language  \\\n",
       "0              Animation Comedy Family     862  tt0114709                en   \n",
       "1             Adventure Fantasy Family    8844  tt0113497                en   \n",
       "2                       Romance Comedy   15602  tt0113228                en   \n",
       "3                 Comedy Drama Romance   31357  tt0114885                en   \n",
       "4                               Comedy   11862  tt0113041                en   \n",
       "...                                ...     ...        ...               ...   \n",
       "16671  Family Animation Romance Comedy  455661  tt6969946                en   \n",
       "16672            Drama Family TV Movie   39562  tt0889600                en   \n",
       "16673                           Comedy   14008  tt0294425                en   \n",
       "16674                   Fantasy Comedy   49271  tt0127948                en   \n",
       "16675             Drama Action Romance   30840  tt0102797                en   \n",
       "\n",
       "                                    production_companies  \\\n",
       "0                                Pixar Animation Studios   \n",
       "1      TriStar Pictures Teitler Film Interscope Commu...   \n",
       "2                            Warner Bros. Lancaster Gate   \n",
       "3                 Twentieth Century Fox Film Corporation   \n",
       "4              Sandollar Productions Touchstone Pictures   \n",
       "...                                                  ...   \n",
       "16671                 Ringling College of Art and Design   \n",
       "16672                                                      \n",
       "16673  Walt Disney Television Disney Channel Leider/S...   \n",
       "16674                                  Star Film Company   \n",
       "16675  Westdeutscher Rundfunk (WDR) Working Title Fil...   \n",
       "\n",
       "                             title  \\\n",
       "0                        Toy Story   \n",
       "1                          Jumanji   \n",
       "2                 Grumpier Old Men   \n",
       "3                Waiting to Exhale   \n",
       "4      Father of the Bride Part II   \n",
       "...                            ...   \n",
       "16671               In a Heartbeat   \n",
       "16672            To Be Fat Like Me   \n",
       "16673                  Cadet Kelly   \n",
       "16674          The Devilish Tenant   \n",
       "16675                   Robin Hood   \n",
       "\n",
       "                                       combined_features  \n",
       "0      Toy Story Animation Comedy Family Pixar Animat...  \n",
       "1      Jumanji Adventure Fantasy Family TriStar Pictu...  \n",
       "2      Grumpier Old Men Romance Comedy Warner Bros. L...  \n",
       "3      Waiting to Exhale Comedy Drama Romance Twentie...  \n",
       "4      Father of the Bride Part II Comedy Sandollar P...  \n",
       "...                                                  ...  \n",
       "16671  In a Heartbeat Family Animation Romance Comedy...  \n",
       "16672           To Be Fat Like Me Drama Family TV Movie   \n",
       "16673  Cadet Kelly Comedy Walt Disney Television Disn...  \n",
       "16674  The Devilish Tenant Fantasy Comedy Star Film C...  \n",
       "16675  Robin Hood Drama Action Romance Westdeutscher ...  \n",
       "\n",
       "[16676 rows x 7 columns]"
      ]
     },
     "execution_count": 45,
     "metadata": {},
     "output_type": "execute_result"
    }
   ],
   "source": [
    "df1"
   ]
  },
  {
   "cell_type": "markdown",
   "metadata": {},
   "source": [
    "## Training"
   ]
  },
  {
   "cell_type": "code",
   "execution_count": 46,
   "metadata": {},
   "outputs": [],
   "source": [
    "cv = CountVectorizer()\n",
    "count_matrix = cv.fit_transform(df1[\"combined_features\"])\n",
    "similarity_scores = cosine_similarity(count_matrix)"
   ]
  },
  {
   "cell_type": "markdown",
   "metadata": {},
   "source": [
    "## Predicting"
   ]
  },
  {
   "cell_type": "code",
   "execution_count": 47,
   "metadata": {},
   "outputs": [],
   "source": [
    "def Categorical(movie,no_of_recommendation):\n",
    "    dim = df1.shape\n",
    "    index = -1\n",
    "    for i in range(dim[0]):\n",
    "        if df1.loc[i]['title']==movie:\n",
    "            index = i\n",
    "            break\n",
    "            \n",
    "    if(index == -1):\n",
    "        print(\"Movie not present\")\n",
    "        return\n",
    "    \n",
    "    similarity_movies = similarity_scores[index]\n",
    "    \n",
    "    dist = {}\n",
    "    for i in range(dim[0]):\n",
    "        dist[i] = similarity_movies[i]\n",
    "    max_dist = {key:val for key,val in sorted(dist.items(),key = lambda ele:ele[1],reverse = True)}\n",
    "    final_list = list(max_dist.keys())\n",
    "    \n",
    "    i=0\n",
    "    recommendation = []\n",
    "    while(i<no_of_recommendation):\n",
    "        recommendation.append(df1.loc[final_list[i]]['title'])\n",
    "        i+=1\n",
    "    return recommendation"
   ]
  },
  {
   "cell_type": "code",
   "execution_count": 48,
   "metadata": {},
   "outputs": [
    {
     "name": "stdout",
     "output_type": "stream",
     "text": [
      "Batman Begins\n",
      "The Dark Knight\n",
      "The Dark Knight Rises\n",
      "The Losers\n",
      "RED 2\n",
      "Suicide Squad\n",
      "Batman: The Killing Joke\n",
      "DC Showcase: Catwoman\n"
     ]
    }
   ],
   "source": [
    "recommendation = Categorical(\"Batman Begins\",8)\n",
    "for i in recommendation:\n",
    "    print(i)"
   ]
  },
  {
   "cell_type": "code",
   "execution_count": 49,
   "metadata": {},
   "outputs": [
    {
     "name": "stdout",
     "output_type": "stream",
     "text": [
      "Jumanji\n",
      "Zathura: A Space Adventure\n",
      "Hook\n",
      "Kazaam\n",
      "Peter Pan\n",
      "Bingo\n",
      "Operation Dumbo Drop\n",
      "Magic in the Water\n"
     ]
    }
   ],
   "source": [
    "recommendation = Categorical(\"Jumanji\",8)\n",
    "for i in recommendation:\n",
    "    print(i)"
   ]
  },
  {
   "cell_type": "code",
   "execution_count": null,
   "metadata": {},
   "outputs": [],
   "source": []
  }
 ],
 "metadata": {
  "kernelspec": {
   "display_name": "Python 3 (ipykernel)",
   "language": "python",
   "name": "python3"
  },
  "language_info": {
   "codemirror_mode": {
    "name": "ipython",
    "version": 3
   },
   "file_extension": ".py",
   "mimetype": "text/x-python",
   "name": "python",
   "nbconvert_exporter": "python",
   "pygments_lexer": "ipython3",
   "version": "3.8.8"
  }
 },
 "nbformat": 4,
 "nbformat_minor": 2
}
